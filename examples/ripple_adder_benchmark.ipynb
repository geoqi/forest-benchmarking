{
 "cells": [
  {
   "cell_type": "markdown",
   "metadata": {},
   "source": [
    "# A simple ripple carry adder on the QPU\n",
    "\n",
    "In this notebook we implement a \"simple\" reversible binary adder. It is based on\n",
    "\n",
    "*A new quantum ripple-carry addition circuit*, by \n",
    "Cuccaro, Draper, Kutin, and Moulton. See\n",
    "https://arxiv.org/abs/quant-ph/0410184v1 .\n",
    "\n",
    "The whole circuit is classical in the sense that we start and end in computational basis states and all gates simply perform classical not, controlled not, or doublely controled not."
   ]
  },
  {
   "cell_type": "code",
   "execution_count": null,
   "metadata": {},
   "outputs": [],
   "source": [
    "import numpy as np\n",
    "from pyquil.quil import Program\n",
    "\n",
    "from pyquil.gates import *\n",
    "from pyquil.api import get_qc\n",
    "from forest_benchmarking.classical_logic.ripple_carry_adder import *\n",
    "\n",
    "import matplotlib.pyplot as plt\n",
    "import networkx as nx"
   ]
  },
  {
   "cell_type": "code",
   "execution_count": null,
   "metadata": {},
   "outputs": [],
   "source": [
    "# noiseless QVM\n",
    "qc = get_qc(\"Aspen-1-15Q-A\", as_qvm=True, noisy=False)\n",
    "\n",
    "# noisy QVM\n",
    "noisy_qc = get_qc(\"9q-generic-noisy-qvm\", as_qvm=True, noisy=True)\n"
   ]
  },
  {
   "cell_type": "markdown",
   "metadata": {},
   "source": [
    "## Draw the noiseless qc topology"
   ]
  },
  {
   "cell_type": "code",
   "execution_count": null,
   "metadata": {},
   "outputs": [],
   "source": [
    "nx.draw(qc.qubit_topology(),with_labels=True)"
   ]
  },
  {
   "cell_type": "markdown",
   "metadata": {},
   "source": [
    "## Start with 1+1=2 on a noiseless simulation"
   ]
  },
  {
   "cell_type": "code",
   "execution_count": null,
   "metadata": {},
   "outputs": [],
   "source": [
    "num_a = [0,1]\n",
    "num_b = [0,1]\n",
    "reg_a, reg_b, c, z = assign_registers_to_line_or_cycle(3, qc.qubit_topology(), len(num_a))\n",
    "ckt = adder(num_a, num_b, reg_a, reg_b, c, z)\n",
    "print(ckt)\n",
    "exe = qc.compiler.native_quil_to_executable(ckt)\n",
    "qc.run(exe)"
   ]
  },
  {
   "cell_type": "markdown",
   "metadata": {},
   "source": [
    "## Draw the noisy qc topology"
   ]
  },
  {
   "cell_type": "code",
   "execution_count": null,
   "metadata": {},
   "outputs": [],
   "source": [
    "nx.draw(noisy_qc.qubit_topology(),with_labels=True)"
   ]
  },
  {
   "cell_type": "markdown",
   "metadata": {},
   "source": [
    "## Now try 1+1=2 on a noisy qc"
   ]
  },
  {
   "cell_type": "code",
   "execution_count": null,
   "metadata": {},
   "outputs": [],
   "source": [
    "ckt = adder(num_a, num_b)\n",
    "print(ckt)\n",
    "exe = noisy_qc.compile(ckt)\n",
    "noisy_qc.run(exe)"
   ]
  },
  {
   "cell_type": "markdown",
   "metadata": {},
   "source": [
    "## Get results for all summations of pairs of n-bit strings"
   ]
  },
  {
   "cell_type": "code",
   "execution_count": null,
   "metadata": {},
   "outputs": [],
   "source": [
    "n_bits = 2\n",
    "registers = assign_registers_to_line_or_cycle(0, noisy_qc.qubit_topology(), n_bits)\n",
    "results = get_n_bit_adder_results(noisy_qc, n_bits, registers=registers)"
   ]
  },
  {
   "cell_type": "code",
   "execution_count": null,
   "metadata": {},
   "outputs": [],
   "source": [
    "get_success_probabilities_from_results(results)"
   ]
  },
  {
   "cell_type": "markdown",
   "metadata": {},
   "source": [
    "## Get the distribution of the hamming weight of errors"
   ]
  },
  {
   "cell_type": "code",
   "execution_count": null,
   "metadata": {},
   "outputs": [],
   "source": [
    "distributions = get_error_hamming_distributions_from_results(results)"
   ]
  },
  {
   "cell_type": "markdown",
   "metadata": {},
   "source": [
    "## Plot average distribution over all summations; compare to random"
   ]
  },
  {
   "cell_type": "code",
   "execution_count": null,
   "metadata": {},
   "outputs": [],
   "source": [
    "from scipy.special import comb\n",
    "\n",
    "averaged_distr = np.mean(distributions, axis=0)\n",
    "\n",
    "rand_ans_distr = [comb(n_bits+1, x)/2**(n_bits + 1) for x in range(len(averaged_distr))]\n",
    "\n",
    "x_labels = np.arange(0, len(averaged_distr))\n",
    "plt.bar(x_labels, averaged_distr, width=0.61, align='center')\n",
    "plt.bar(x_labels, rand_ans_distr, width=0.31, align='center')\n",
    "plt.xticks(x_labels)\n",
    "plt.xlabel('Hamming Weight of Error')\n",
    "plt.ylabel('Relative Frequency of Occurence')\n",
    "plt.grid(axis='y', alpha=0.75)\n",
    "plt.legend(['data','random'])\n",
    "plt.title('Error Hamming Wt Distr Avgd Over {}-bit Strings'.format(n_bits))\n",
    "plt.show()"
   ]
  },
  {
   "cell_type": "markdown",
   "metadata": {},
   "source": [
    "## Now do the same, but with addition in the X basis"
   ]
  },
  {
   "cell_type": "code",
   "execution_count": null,
   "metadata": {},
   "outputs": [],
   "source": [
    "n_bits = 2\n",
    "registers = assign_registers_to_line_or_cycle(0, noisy_qc.qubit_topology(), n_bits)\n",
    "# set in_x_basis to true here\n",
    "results = get_n_bit_adder_results(noisy_qc, n_bits, registers=registers, in_x_basis=True)\n",
    "distributions = get_error_hamming_distributions_from_results(results)\n",
    "\n",
    "averaged_distr = np.mean(distributions, axis=0)\n",
    "x_labels = np.arange(0, len(averaged_distr))\n",
    "plt.bar(x_labels, averaged_distr, width=0.61, align='center')\n",
    "plt.bar(x_labels, rand_ans_distr, width=0.31, align='center')\n",
    "plt.xticks(x_labels)\n",
    "plt.xlabel('Hamming Weight of Error')\n",
    "plt.ylabel('Relative Frequency of Occurence')\n",
    "plt.grid(axis='y', alpha=0.75)\n",
    "plt.legend(['data','random'])\n",
    "plt.title('Error Hamming Wt Distr Avgd Over {}-bit Strings'.format(n_bits))\n",
    "plt.show()"
   ]
  },
  {
   "cell_type": "code",
   "execution_count": null,
   "metadata": {},
   "outputs": [],
   "source": []
  }
 ],
 "metadata": {
  "language_info": {
   "name": "python",
   "pygments_lexer": "ipython3"
  }
 },
 "nbformat": 4,
 "nbformat_minor": 2
}
