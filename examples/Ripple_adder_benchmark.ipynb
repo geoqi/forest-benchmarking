{
 "cells": [
  {
   "cell_type": "markdown",
   "metadata": {},
   "source": [
    "# A simple ripple carry adder on the QPU\n",
    "\n",
    "In this notebook we implement a \"simple\" reversible binary adder. It is based on\n",
    "\n",
    "*A new quantum ripple-carry addition circuit*, by \n",
    "Cuccaro, Draper, Kutin, and Moulton. See\n",
    "https://arxiv.org/abs/quant-ph/0410184v1 .\n",
    "\n",
    "The whole circuit is classical in the sense that we start and end in computational basis states and all gates simply perform classical not, controlled not, or doublely controled not."
   ]
  },
  {
   "cell_type": "code",
   "execution_count": 1,
   "metadata": {},
   "outputs": [],
   "source": [
    "import numpy as np\n",
    "from pyquil.quil import Program\n",
    "\n",
    "from pyquil.gates import *\n",
    "from pyquil.api import get_qc\n",
    "from forest_benchmarking.benchmarks.classical_logic_circuits.classical_reversible_logic_primitives import *\n",
    "from scipy.spatial.distance import hamming\n",
    "from scipy.special import comb\n",
    "import time\n",
    "import matplotlib.pyplot as plt\n",
    "import networkx as nx"
   ]
  },
  {
   "cell_type": "code",
   "execution_count": 2,
   "metadata": {},
   "outputs": [],
   "source": [
    "# noiseless QVM\n",
    "qc = get_qc(\"Aspen-1-15Q-A\", as_qvm=True, noisy=False)\n",
    "\n",
    "# noisy QVM\n",
    "noisy_qc = get_qc(\"9q-generic-noisy-qvm\", as_qvm=True, noisy=True)\n"
   ]
  },
  {
   "cell_type": "code",
   "execution_count": 3,
   "metadata": {},
   "outputs": [
    {
     "data": {
      "image/png": "[encoded data removed]",
      "text/plain": [
       "<matplotlib.figure.Figure at 0x7f85ea758940>"
      ]
     },
     "metadata": {},
     "output_type": "display_data"
    }
   ],
   "source": [
    "nx.draw(qc.qubit_topology(),with_labels=True)"
   ]
  },
  {
   "cell_type": "code",
   "execution_count": 4,
   "metadata": {},
   "outputs": [
    {
     "data": {
      "text/plain": [
       "<dict_keyiterator at 0x7f85e9ba5f98>"
      ]
     },
     "execution_count": 4,
     "metadata": {},
     "output_type": "execute_result"
    }
   ],
   "source": [
    "qc.qubit_topology().neighbors(3)"
   ]
  },
  {
   "cell_type": "code",
   "execution_count": 5,
   "metadata": {},
   "outputs": [
    {
     "name": "stdout",
     "output_type": "stream",
     "text": [
      "X 13\n",
      "X 14\n",
      "CNOT 13 14\n",
      "CNOT 13 15\n",
      "CCNOT 15 14 13\n",
      "CNOT 11 12\n",
      "CNOT 11 13\n",
      "CCNOT 13 12 11\n",
      "CNOT 11 10\n",
      "CCNOT 13 12 11\n",
      "CNOT 11 13\n",
      "CNOT 13 12\n",
      "CCNOT 15 14 13\n",
      "CNOT 13 15\n",
      "CNOT 15 14\n",
      "DECLARE ro BIT[3]\n",
      "MEASURE 14 ro[2]\n",
      "MEASURE 12 ro[1]\n",
      "MEASURE 10 ro[0]\n",
      "\n"
     ]
    },
    {
     "data": {
      "text/plain": [
       "array([[0, 1, 0]])"
      ]
     },
     "execution_count": 5,
     "metadata": {},
     "output_type": "execute_result"
    }
   ],
   "source": [
    "num_a = [0,1]\n",
    "num_b = [0,1]\n",
    "reg_a, reg_b, c, z = get_qubit_registers_for_adder(qc, num_a, num_b)\n",
    "ckt = adder(num_a, num_b, reg_a, reg_b, c, z)\n",
    "print(ckt)\n",
    "exe = qc.compiler.native_quil_to_executable(ckt)\n",
    "qc.run(exe)"
   ]
  },
  {
   "cell_type": "code",
   "execution_count": 6,
   "metadata": {},
   "outputs": [
    {
     "data": {
      "image/png": "[encoded data removed]",
      "text/plain": [
       "<matplotlib.figure.Figure at 0x7f85e9ba1128>"
      ]
     },
     "metadata": {},
     "output_type": "display_data"
    }
   ],
   "source": [
    "nx.draw(noisy_qc.qubit_topology(),with_labels=True)"
   ]
  },
  {
   "cell_type": "code",
   "execution_count": 7,
   "metadata": {},
   "outputs": [
    {
     "name": "stderr",
     "output_type": "stream",
     "text": [
      "/home/kylegulshen/forest-benchmarking/forest_benchmarking/benchmarks/classical_logic_circuits/classical_reversible_logic_primitives.py:238: UserWarning: This method is specifically tailored to Aspen QPU topology. An arbitrary assignment will be made.\n",
      "  warnings.warn(\"This method is specifically tailored to Aspen QPU topology.\"\n"
     ]
    },
    {
     "name": "stdout",
     "output_type": "stream",
     "text": [
      "X 0\n",
      "X 2\n",
      "CNOT 0 2\n",
      "CNOT 0 7\n",
      "CCNOT 7 2 0\n",
      "CNOT 1 3\n",
      "CNOT 1 0\n",
      "CCNOT 0 3 1\n",
      "CNOT 1 8\n",
      "CCNOT 0 3 1\n",
      "CNOT 1 0\n",
      "CNOT 0 3\n",
      "CCNOT 7 2 0\n",
      "CNOT 0 7\n",
      "CNOT 7 2\n",
      "DECLARE ro BIT[3]\n",
      "MEASURE 2 ro[2]\n",
      "MEASURE 3 ro[1]\n",
      "MEASURE 8 ro[0]\n",
      "\n"
     ]
    },
    {
     "data": {
      "text/plain": [
       "array([[0, 1, 0]])"
      ]
     },
     "execution_count": 7,
     "metadata": {},
     "output_type": "execute_result"
    }
   ],
   "source": [
    "reg_a, reg_b, c, z = get_qubit_registers_for_adder(noisy_qc, num_a, num_b)\n",
    "ckt = adder(num_a, num_b, reg_a, reg_b, c, z)\n",
    "print(ckt)\n",
    "exe = noisy_qc.compile(ckt)\n",
    "noisy_qc.run(exe)"
   ]
  },
  {
   "cell_type": "code",
   "execution_count": 8,
   "metadata": {},
   "outputs": [
    {
     "name": "stdout",
     "output_type": "stream",
     "text": [
      "X 6\n",
      "X 3\n",
      "CNOT 6 3\n",
      "CNOT 6 0\n",
      "CCNOT 0 3 6\n",
      "CNOT 8 7\n",
      "CNOT 8 6\n",
      "CCNOT 6 7 8\n",
      "CNOT 8 5\n",
      "CCNOT 6 7 8\n",
      "CNOT 8 6\n",
      "CNOT 6 7\n",
      "CCNOT 0 3 6\n",
      "CNOT 6 0\n",
      "CNOT 0 3\n",
      "DECLARE ro BIT[3]\n",
      "MEASURE 3 ro[2]\n",
      "MEASURE 7 ro[1]\n",
      "MEASURE 5 ro[0]\n",
      "\n"
     ]
    },
    {
     "data": {
      "text/plain": [
       "array([[0, 1, 0]])"
      ]
     },
     "execution_count": 8,
     "metadata": {},
     "output_type": "execute_result"
    }
   ],
   "source": [
    "hand_select_qubits = set(noisy_qc.qubits()) - {4}\n",
    "reg_a, reg_b, c, z = get_qubit_registers_for_adder(noisy_qc, num_a, num_b, hand_select_qubits)\n",
    "ckt = adder(num_a, num_b, reg_a, reg_b, c, z)\n",
    "print(ckt)\n",
    "exe = noisy_qc.compile(ckt)\n",
    "noisy_qc.run(exe)"
   ]
  },
  {
   "cell_type": "code",
   "execution_count": 9,
   "metadata": {},
   "outputs": [],
   "source": [
    "from pyquil.unitary_tools import all_bitstrings\n",
    "\n",
    "\n",
    "def int_to_bit_array(num, n_bits):\n",
    "    return [num >> bit & 1 for bit in range(n_bits-1, -1, -1)]\n",
    "\n",
    "def bit_array_to_int(bit_array: Sequence[int]) -> int:\n",
    "    \"\"\"\n",
    "    Converts a bit array into an integer where the right-most bit is least significant.\n",
    "    :param bit_array: an array of bits with right-most bit considered least significant.\n",
    "    :return: the integer corresponding to the bitstring.\n",
    "    \"\"\"\n",
    "    output = 0\n",
    "    for bit in bit_array:\n",
    "        output = (output << 1) | bit\n",
    "    return output\n",
    "\n",
    "\n",
    "def average_adder_result_over_input_strings(qc, n_bits, qubits=None, in_x_basis=False, num_shots = 10):\n",
    "    \"\"\"\n",
    "    Find hamming weight distribution of errors relative to correct answer averaged over input strings.\n",
    "    \n",
    "    The default option is to compute this in the computational (aka Z) basis. By passing in\n",
    "    CNOTfun and CCNOTfun as CNOT_X_basis and CCNOT_X_basis the computation happens in the X basis.\n",
    "    \n",
    "    :param n_bits: the number of bits of each of the equal-length summands.\n",
    "    :returns wt: hamming weights from QPU or QVM\n",
    "    \"\"\"\n",
    "    \n",
    "    # loop over all binary strings of length \"n\"\n",
    "    for bits in all_bitstrings(2 * n_bits):\n",
    "        # split the binary number into two numbers\n",
    "        # which are the binary numbers the user wants to add.\n",
    "        # They are written from (MSB .... LSB) = (a_n, ..., a_1, a_0)\n",
    "        num_a = bits[:n_bits]\n",
    "        num_b = bits[n_bits:]\n",
    "        nums = (num_a, num_b)\n",
    "\n",
    "        # add the numbers\n",
    "        ans = sum([bit_array_to_int(num) for num in nums])\n",
    "        ans_bits = int_to_bit_array(ans, n_bits + 1)\n",
    "        \n",
    "        # get addresses\n",
    "        reg_a, reg_b, c, z = get_qubit_registers_for_adder(qc, num_a, num_b, qubits)\n",
    "        \n",
    "        # program to add numbers\n",
    "        add_prog = adder(num_a, num_b, reg_a, reg_b, c, z, in_x_basis)\n",
    "        add_prog.wrap_in_numshots_loop(num_shots)\n",
    "        add_exe = qc.compile(add_prog)\n",
    "#         add_exe = qc.compiler.native_quil_to_executable(add_prog)\n",
    "        \n",
    "        # Run it on the QPU or QVM\n",
    "        qpustart = time.time()\n",
    "#         print(add_binary_numbers)\n",
    "        results = qc.run(add_exe)\n",
    "        qpuend = time.time()\n",
    "        print('runtime: ' + str(qpuend - qpustart))\n",
    "        \n",
    "        print(num_a, num_b, ans, ans_bits)\n",
    "        print(results)\n",
    "            \n",
    "#         # find hamming weight between desired_answer (correct) and QPU / QVM result\n",
    "#         count = 0\n",
    "#         for i in range(len(answer)):\n",
    "#             wt[binstr_idx,i]= (n)*hamming(desired_answer, answer[i])\n",
    "#             if desired_answer == answer[i]:\n",
    "#                 count +=1\n",
    "#         # Sloppy accounting for the case where the number of\n",
    "#         # sucesses equals zero\n",
    "#         if count == 0:\n",
    "#             count +=1\n",
    "#         print('Pr(suc) = '+ str(count/num_trials))\n",
    "#     return wt"
   ]
  },
  {
   "cell_type": "code",
   "execution_count": 13,
   "metadata": {},
   "outputs": [
    {
     "name": "stdout",
     "output_type": "stream",
     "text": [
      "runtime: 0.13927435874938965\n",
      "[0 0] [0 0] 0 [0, 0, 0]\n",
      "[[0 1 0]\n",
      " [0 0 0]\n",
      " [0 0 0]\n",
      " [0 0 0]\n",
      " [0 0 0]\n",
      " [0 0 0]\n",
      " [0 0 0]\n",
      " [0 0 0]\n",
      " [0 0 0]\n",
      " [0 0 0]]\n",
      "runtime: 0.11220240592956543\n",
      "[0 0] [0 1] 1 [0, 0, 1]\n",
      "[[0 1 1]\n",
      " [0 0 1]\n",
      " [0 0 1]\n",
      " [0 0 1]\n",
      " [0 0 1]\n",
      " [0 0 1]\n",
      " [0 0 1]\n",
      " [0 0 1]\n",
      " [0 0 1]\n",
      " [0 0 1]]\n",
      "runtime: 0.1153557300567627\n",
      "[0 0] [1 0] 2 [0, 1, 0]\n",
      "[[0 1 0]\n",
      " [0 1 0]\n",
      " [0 1 0]\n",
      " [0 1 0]\n",
      " [0 1 0]\n",
      " [0 1 0]\n",
      " [0 1 0]\n",
      " [0 1 0]\n",
      " [0 1 0]\n",
      " [0 1 0]]\n",
      "runtime: 0.14357376098632812\n",
      "[0 0] [1 1] 3 [0, 1, 1]\n",
      "[[0 1 1]\n",
      " [0 1 1]\n",
      " [0 1 1]\n",
      " [0 1 1]\n",
      " [0 1 1]\n",
      " [0 1 1]\n",
      " [0 1 1]\n",
      " [0 1 1]\n",
      " [0 1 1]\n",
      " [0 1 1]]\n",
      "runtime: 0.11266803741455078\n",
      "[0 1] [0 0] 1 [0, 0, 1]\n",
      "[[0 0 1]\n",
      " [0 0 1]\n",
      " [0 0 1]\n",
      " [0 0 1]\n",
      " [0 0 1]\n",
      " [0 0 1]\n",
      " [0 0 0]\n",
      " [0 0 1]\n",
      " [0 0 1]\n",
      " [0 0 1]]\n",
      "runtime: 0.11532235145568848\n",
      "[0 1] [0 1] 2 [0, 1, 0]\n",
      "[[0 1 0]\n",
      " [0 1 0]\n",
      " [0 1 0]\n",
      " [0 1 0]\n",
      " [0 1 0]\n",
      " [0 1 0]\n",
      " [0 1 0]\n",
      " [0 1 0]\n",
      " [0 0 0]\n",
      " [0 1 0]]\n",
      "runtime: 0.11630916595458984\n",
      "[0 1] [1 0] 3 [0, 1, 1]\n",
      "[[0 1 1]\n",
      " [0 1 1]\n",
      " [0 1 1]\n",
      " [0 1 1]\n",
      " [0 1 1]\n",
      " [0 1 1]\n",
      " [0 1 0]\n",
      " [0 1 1]\n",
      " [0 0 1]\n",
      " [0 1 1]]\n",
      "runtime: 0.11272096633911133\n",
      "[0 1] [1 1] 4 [1, 0, 0]\n",
      "[[1 0 0]\n",
      " [1 0 0]\n",
      " [1 0 0]\n",
      " [1 0 0]\n",
      " [1 0 0]\n",
      " [1 0 0]\n",
      " [1 0 0]\n",
      " [1 0 0]\n",
      " [0 0 0]\n",
      " [1 0 0]]\n",
      "runtime: 0.11643743515014648\n",
      "[1 0] [0 0] 2 [0, 1, 0]\n",
      "[[0 1 0]\n",
      " [0 1 0]\n",
      " [0 1 0]\n",
      " [0 1 0]\n",
      " [0 1 0]\n",
      " [0 1 0]\n",
      " [0 1 0]\n",
      " [0 1 0]\n",
      " [0 0 0]\n",
      " [0 1 0]]\n",
      "runtime: 0.10975146293640137\n",
      "[1 0] [0 1] 3 [0, 1, 1]\n",
      "[[0 1 1]\n",
      " [0 1 1]\n",
      " [0 1 1]\n",
      " [0 1 1]\n",
      " [0 1 1]\n",
      " [0 1 1]\n",
      " [0 1 0]\n",
      " [0 1 1]\n",
      " [0 0 1]\n",
      " [0 1 1]]\n",
      "runtime: 0.11761045455932617\n",
      "[1 0] [1 0] 4 [1, 0, 0]\n",
      "[[1 0 0]\n",
      " [1 0 0]\n",
      " [1 0 0]\n",
      " [1 0 0]\n",
      " [1 0 0]\n",
      " [1 0 0]\n",
      " [1 0 0]\n",
      " [1 0 0]\n",
      " [0 0 0]\n",
      " [1 0 0]]\n",
      "runtime: 0.11869192123413086\n",
      "[1 0] [1 1] 5 [1, 0, 1]\n",
      "[[1 0 1]\n",
      " [1 0 1]\n",
      " [1 0 1]\n",
      " [1 0 1]\n",
      " [1 0 1]\n",
      " [1 0 1]\n",
      " [1 0 0]\n",
      " [1 0 1]\n",
      " [0 0 1]\n",
      " [1 0 1]]\n",
      "runtime: 0.11554813385009766\n",
      "[1 1] [0 0] 3 [0, 1, 1]\n",
      "[[0 1 1]\n",
      " [0 1 1]\n",
      " [0 1 1]\n",
      " [0 1 1]\n",
      " [0 1 1]\n",
      " [0 1 1]\n",
      " [0 1 0]\n",
      " [0 1 1]\n",
      " [0 0 1]\n",
      " [0 1 1]]\n",
      "runtime: 0.1158599853515625\n",
      "[1 1] [0 1] 4 [1, 0, 0]\n",
      "[[1 0 0]\n",
      " [1 0 0]\n",
      " [1 0 0]\n",
      " [1 0 0]\n",
      " [1 0 0]\n",
      " [1 0 0]\n",
      " [1 1 0]\n",
      " [1 0 0]\n",
      " [1 0 1]\n",
      " [1 0 0]]\n",
      "runtime: 0.11299252510070801\n",
      "[1 1] [1 0] 5 [1, 0, 1]\n",
      "[[1 0 1]\n",
      " [1 0 1]\n",
      " [1 0 1]\n",
      " [1 0 1]\n",
      " [1 0 1]\n",
      " [1 0 1]\n",
      " [1 1 1]\n",
      " [1 0 1]\n",
      " [1 0 1]\n",
      " [1 0 0]]\n",
      "runtime: 0.11725068092346191\n",
      "[1 1] [1 1] 6 [1, 1, 0]\n",
      "[[1 1 0]\n",
      " [1 1 0]\n",
      " [1 1 0]\n",
      " [1 1 0]\n",
      " [1 1 0]\n",
      " [1 1 0]\n",
      " [1 1 0]\n",
      " [1 0 0]\n",
      " [1 1 1]\n",
      " [1 1 0]]\n"
     ]
    }
   ],
   "source": [
    "average_adder_result_over_input_strings(noisy_qc, 2, qubits=hand_select_qubits)"
   ]
  },
  {
   "cell_type": "markdown",
   "metadata": {},
   "source": [
    "# Addition in the Z (Computational) basis results"
   ]
  },
  {
   "cell_type": "code",
   "execution_count": 8,
   "metadata": {},
   "outputs": [
    {
     "name": "stdout",
     "output_type": "stream",
     "text": [
      "runtime: 1.3064579963684082\n",
      "Pr(suc) = 0.25\n",
      "runtime: 0.998553991317749\n",
      "Pr(suc) = 0.25\n",
      "runtime: 0.8788619041442871\n",
      "Pr(suc) = 0.2\n",
      "runtime: 0.725492000579834\n",
      "Pr(suc) = 0.2\n"
     ]
    },
    {
     "data": {
      "image/png": "[encoded data removed]",
      "text/plain": [
       "<matplotlib.figure.Figure at 0x10a9bbc50>"
      ]
     },
     "metadata": {},
     "output_type": "display_data"
    },
    {
     "name": "stdout",
     "output_type": "stream",
     "text": [
      "runtime: 1.8589229583740234\n",
      "Pr(suc) = 0.2\n",
      "runtime: 1.991332769393921\n",
      "Pr(suc) = 0.125\n",
      "runtime: 1.99714994430542\n",
      "Pr(suc) = 0.2\n",
      "runtime: 1.8624670505523682\n",
      "Pr(suc) = 0.05\n",
      "runtime: 1.8658502101898193\n",
      "Pr(suc) = 0.075\n",
      "runtime: 1.815424919128418\n",
      "Pr(suc) = 0.125\n",
      "runtime: 1.8163819313049316\n",
      "Pr(suc) = 0.1\n",
      "runtime: 1.886094093322754\n",
      "Pr(suc) = 0.175\n",
      "runtime: 1.7729802131652832\n",
      "Pr(suc) = 0.125\n",
      "runtime: 1.8846769332885742\n",
      "Pr(suc) = 0.075\n",
      "runtime: 1.8310699462890625\n",
      "Pr(suc) = 0.25\n",
      "runtime: 1.7677240371704102\n",
      "Pr(suc) = 0.15\n",
      "runtime: 1.8370187282562256\n",
      "Pr(suc) = 0.15\n",
      "runtime: 1.852219820022583\n",
      "Pr(suc) = 0.1\n",
      "runtime: 1.8766119480133057\n",
      "Pr(suc) = 0.1\n",
      "runtime: 1.805290937423706\n",
      "Pr(suc) = 0.2\n"
     ]
    },
    {
     "data": {
      "image/png": "[encoded data removed]",
      "text/plain": [
       "<matplotlib.figure.Figure at 0x11be1b198>"
      ]
     },
     "metadata": {},
     "output_type": "display_data"
    }
   ],
   "source": [
    "# If equal to 10,000  = 1% error\n",
    "num_trials = 40 #000\n",
    "\n",
    "avg_n = []\n",
    "med_n = []\n",
    "min_n = []\n",
    "max_n = []\n",
    "rand_n = []\n",
    "\n",
    "for ndx in range(1,3):\n",
    "    # length of binary string\n",
    "    n=ndx\n",
    "    \n",
    "    bin_str = []\n",
    "    bin_str = construct_all_possible_input_numbers(n)\n",
    "    \n",
    "    # find hamming weight distribution of errors relative to correct\n",
    "    # answer averaged over all possible input strings\n",
    "    wt = np.zeros((2**(2*n),num_trials))\n",
    "    wt = average_adder_result_over_input_strings(bin_str,num_of_qubits)\n",
    "    histy = construct_bit_flip_error_histogram(wt,n)\n",
    "    hamming_wt = np.array([comb(n+1,x) for x in list(range(0,n+2))])\n",
    "    hamming_dist = hamming_wt/sum(hamming_wt)\n",
    "\n",
    "    # calculate statistics\n",
    "    exp_average_hamming = np.average(histy,0)/num_trials\n",
    "    avg_n.append(np.average(histy[0],0)/num_trials)\n",
    "    med_n.append(np.median(histy[0],0)/num_trials)\n",
    "    min_n.append(np.min(histy[0],0)/num_trials)\n",
    "    max_n.append(np.max(histy[0],0)/num_trials)\n",
    "    rand_n.append(hamming_dist[0])\n",
    "\n",
    "    # some plotting\n",
    "    weight_vec = list(np.arange(0,n+2))\n",
    "    plt.bar(weight_vec,exp_average_hamming,width=0.61,align='center')\n",
    "    plt.bar(weight_vec,hamming_dist,width=0.31,align='center')\n",
    "    plt.xticks(weight_vec, list(range(0,n+2)))\n",
    "    plt.xlabel('Hamming Weight')\n",
    "    plt.ylabel('Pr(Correct string)' )\n",
    "    plt.legend(['data','random'])\n",
    "    plt.title('Avg. Hamming wt(correct answer, QPU result)' '  n = ' + str(n) + '+' +str(1))\n",
    "    name = 'hamm_n_equal_' + str(n)\n",
    "    plt.savefig(name+'.pdf', bbox_inches='tight')\n",
    "    plt.show()"
   ]
  },
  {
   "cell_type": "markdown",
   "metadata": {},
   "source": [
    "# Addition in the X basis results"
   ]
  },
  {
   "cell_type": "code",
   "execution_count": 11,
   "metadata": {},
   "outputs": [
    {
     "name": "stdout",
     "output_type": "stream",
     "text": [
      "runtime: 0.8560998439788818\n",
      "Pr(suc) = 0.225\n",
      "runtime: 0.837130069732666\n",
      "Pr(suc) = 0.275\n",
      "runtime: 0.7872509956359863\n",
      "Pr(suc) = 0.25\n",
      "runtime: 0.7553541660308838\n",
      "Pr(suc) = 0.225\n"
     ]
    },
    {
     "data": {
      "image/png": "[encoded data removed]",
      "text/plain": [
       "<matplotlib.figure.Figure at 0x1205b00f0>"
      ]
     },
     "metadata": {},
     "output_type": "display_data"
    },
    {
     "name": "stdout",
     "output_type": "stream",
     "text": [
      "runtime: 1.9475767612457275\n",
      "Pr(suc) = 0.1\n",
      "runtime: 2.0232138633728027\n",
      "Pr(suc) = 0.05\n",
      "runtime: 2.120298385620117\n",
      "Pr(suc) = 0.05\n",
      "runtime: 1.879486083984375\n",
      "Pr(suc) = 0.075\n",
      "runtime: 1.9667320251464844\n",
      "Pr(suc) = 0.125\n",
      "runtime: 1.945770025253296\n",
      "Pr(suc) = 0.05\n",
      "runtime: 1.8539447784423828\n",
      "Pr(suc) = 0.025\n",
      "runtime: 1.9483740329742432\n",
      "Pr(suc) = 0.1\n",
      "runtime: 1.9713902473449707\n",
      "Pr(suc) = 0.1\n",
      "runtime: 1.8854248523712158\n",
      "Pr(suc) = 0.125\n",
      "runtime: 1.8954660892486572\n",
      "Pr(suc) = 0.125\n",
      "runtime: 1.878230094909668\n",
      "Pr(suc) = 0.125\n",
      "runtime: 1.889120101928711\n",
      "Pr(suc) = 0.1\n",
      "runtime: 1.886733055114746\n",
      "Pr(suc) = 0.075\n",
      "runtime: 1.894124984741211\n",
      "Pr(suc) = 0.175\n",
      "runtime: 1.8899500370025635\n",
      "Pr(suc) = 0.075\n"
     ]
    },
    {
     "data": {
      "image/png": "[encoded data removed]",
      "text/plain": [
       "<matplotlib.figure.Figure at 0x11f8c2b38>"
      ]
     },
     "metadata": {},
     "output_type": "display_data"
    }
   ],
   "source": [
    "# If equal to 10,000  = 1% error\n",
    "num_trials = 40 #000\n",
    "\n",
    "avg_n = []\n",
    "med_n = []\n",
    "min_n = []\n",
    "max_n = []\n",
    "rand_n = []\n",
    "\n",
    "for ndx in range(1,3):\n",
    "    # length of binary string\n",
    "    n=ndx\n",
    "    \n",
    "    bin_str = []\n",
    "    bin_str = construct_all_possible_input_numbers(n)\n",
    "    \n",
    "    # find hamming weight distribution of errors relative to correct\n",
    "    # answer averaged over all possible input strings\n",
    "    wt = np.zeros((2**(2*n),num_trials))\n",
    "    wt = average_adder_result_over_input_strings(bin_str, num_of_qubits, CNOT_X_basis, CCNOT_X_basis)\n",
    "    histy = construct_bit_flip_error_histogram(wt,n)\n",
    "    hamming_wt = np.array([comb(n+1,x) for x in list(range(0,n+2))])\n",
    "    hamming_dist = hamming_wt/sum(hamming_wt)\n",
    "\n",
    "    # calculate statistics\n",
    "    exp_average_hamming = np.average(histy,0)/num_trials\n",
    "    avg_n.append(np.average(histy[0],0)/num_trials)\n",
    "    med_n.append(np.median(histy[0],0)/num_trials)\n",
    "    min_n.append(np.min(histy[0],0)/num_trials)\n",
    "    max_n.append(np.max(histy[0],0)/num_trials)\n",
    "    rand_n.append(hamming_dist[0])\n",
    "\n",
    "    # some plotting\n",
    "    weight_vec = list(np.arange(0,n+2))\n",
    "    plt.bar(weight_vec,exp_average_hamming,width=0.61,align='center')\n",
    "    plt.bar(weight_vec,hamming_dist,width=0.31,align='center')\n",
    "    plt.xticks(weight_vec, list(range(0,n+2)))\n",
    "    plt.xlabel('Hamming Weight')\n",
    "    plt.ylabel('Pr(Correct string)' )\n",
    "    plt.legend(['data','random'])\n",
    "    plt.title('Avg. Hamming wt(correct answer, QPU result)' '  n = ' + str(n) + '+' +str(1))\n",
    "    name = 'hamm_n_equal_' + str(n)\n",
    "    plt.savefig(name+'.pdf', bbox_inches='tight')\n",
    "    plt.show()"
   ]
  },
  {
   "cell_type": "code",
   "execution_count": null,
   "metadata": {},
   "outputs": [],
   "source": []
  }
 ],
 "metadata": {
  "celltoolbar": "Raw Cell Format",
  "kernelspec": {
   "display_name": "Python 3",
   "language": "python",
   "name": "python3"
  },
  "language_info": {
   "codemirror_mode": {
    "name": "ipython",
    "version": 3
   },
   "file_extension": ".py",
   "mimetype": "text/x-python",
   "name": "python",
   "nbconvert_exporter": "python",
   "pygments_lexer": "ipython3",
   "version": "3.6.5"
  }
 },
 "nbformat": 4,
 "nbformat_minor": 2
}
