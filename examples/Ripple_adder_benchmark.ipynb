{
 "cells": [
  {
   "cell_type": "markdown",
   "metadata": {},
   "source": [
    "# A simple ripple carry adder on the QPU\n",
    "\n",
    "In this notebook we implement a \"simple\" reversible binary adder. It is based on\n",
    "\n",
    "*A new quantum ripple-carry addition circuit*, by \n",
    "Cuccaro, Draper, Kutin, and Moulton. See\n",
    "https://arxiv.org/abs/quant-ph/0410184v1 .\n",
    "\n",
    "The whole circuit is classical in the sense that we start and end in computational basis states and all gates simply perform classical not, controlled not, or doublely controled not."
   ]
  },
  {
   "cell_type": "code",
   "execution_count": 3,
   "metadata": {
    "collapsed": true
   },
   "outputs": [],
   "source": [
    "import numpy as np\n",
    "from pyquil.quil import Program\n",
    "from pyquil.quilbase import Pragma \n",
    "from pyquil.gates import *\n",
    "import pyquil.api as api\n",
    "from pyquil.api import get_qc, get_benchmarker\n",
    "from forest_benchmarking.benchmarks.classical_logic_circuits.classical_reversible_logic_primitives import *\n",
    "from scipy.spatial.distance import hamming\n",
    "from scipy.special import comb\n",
    "import time\n",
    "import matplotlib.pyplot as plt\n",
    "import networkx as nx"
   ]
  },
  {
   "cell_type": "code",
   "execution_count": 4,
   "metadata": {},
   "outputs": [],
   "source": [
    "# noiseless QVM\n",
    "#qc = get_qc(\"9q-generic-qvm\", as_qvm=True, noisy=False)\n",
    "\n",
    "# noisy QVM\n",
    "qc = get_qc(\"9q-generic\", as_qvm=True, noisy=True)"
   ]
  },
  {
   "cell_type": "code",
   "execution_count": 5,
   "metadata": {
    "collapsed": true
   },
   "outputs": [
    {
     "data": {
      "image/png": "[encoded data removed]",
      "text/plain": [
       "<matplotlib.figure.Figure at 0x11c286da0>"
      ]
     },
     "metadata": {},
     "output_type": "display_data"
    }
   ],
   "source": [
    "nx.draw(qc.qubit_topology(),with_labels=True)"
   ]
  },
  {
   "cell_type": "code",
   "execution_count": 6,
   "metadata": {},
   "outputs": [],
   "source": [
    "num_of_qubits = len(qc.qubits())"
   ]
  },
  {
   "cell_type": "code",
   "execution_count": 7,
   "metadata": {},
   "outputs": [],
   "source": [
    "def average_adder_result_over_input_strings(bin_str, num_of_qubits, CNOTfun = CNOT, CCNOTfun = CCNOT):\n",
    "    \"\"\"\n",
    "    Find hamming weight distribution of errors relative to correct answer averaged over input strings.\n",
    "    \n",
    "    The default option is to compute this in the computational (aka Z) basis. By passing in\n",
    "    CNOTfun and CCNOTfun as CNOT_X_basis and CCNOT_X_basis the computation happens in the X basis.\n",
    "    \n",
    "    :param bin_str: a list of lists that contains all binary strings of length 2n, the\n",
    "    adder adds who strings of length n.\n",
    "    :param num_of_qubits: int\n",
    "    :param CNOTfunc: either CNOT or CNOT_X_basis\n",
    "    :param CCNOTfunc: either CCNOT or CCNOT_X_basis\n",
    "    :returns wt: hamming weights from QPU or QVM\n",
    "    \"\"\"\n",
    "    \n",
    "    # loop over all binary strings of length \"n\"\n",
    "    for binstr_idx in bin_str:\n",
    "        # split the binary number into two numbers and store in a tuple\n",
    "        # These are the binary numbers the user wants to add.\n",
    "        # They are written from (MSB .... LSB) = (a_n, ..., a_1, a_0)\n",
    "        num_a = tuple(binstr_idx[0:n])\n",
    "        num_b = tuple(binstr_idx[n:2*n])\n",
    "\n",
    "        # convert to string\n",
    "        string_a = \"\".join([str(x) for x in num_a])\n",
    "        string_b = \"\".join([str(x) for x in num_b])\n",
    "\n",
    "        # add the numbers\n",
    "        ans_str= int(string_b,2)+int(string_a,2)\n",
    "\n",
    "        # convert back to a binary list of the right length\n",
    "        desired_answer = [int(x) for x in format(ans_str,'0'+str(2*n-(n-1))+'b')]\n",
    "\n",
    "        # do a check on the numbers\n",
    "        check_binary_number_length(num_a, num_b, num_of_qubits)\n",
    "\n",
    "        # create the qubit labels  \n",
    "        qbit_labels = get_qubit_labels(num_a)\n",
    "\n",
    "        # state prep. program.  Take the binary numbers and prepare the corresponing state  \n",
    "        state_prep_prog, register_a, register_b, carry_ancilla, z_ancilla = prepare_binary_numbers(num_a, num_b, qbit_labels, CNOTfun)\n",
    "\n",
    "        # program to add numbers\n",
    "        add_binary_numbers = adder(register_a, register_b, carry_ancilla, z_ancilla, CNOTfun, CCNOTfun)\n",
    "        \n",
    "        # if computation is happening in the X basis we need a measurement program too\n",
    "        meas_prog = Program().inst(I(qbit_labels[0]))\n",
    "        if CNOTfun == CNOT:\n",
    "            for qbit_idx in qbit_labels:\n",
    "                # Hadamard to get back to the Z basis before measurement\n",
    "                meas_prog += H(qbit_idx)\n",
    "        \n",
    "        # Run it on the QPU or QVM\n",
    "        qpustart = time.time()\n",
    "        print(add_binary_numbers)\n",
    "        result = qc.run_and_measure(state_prep_prog + add_binary_numbers + meas_prog, trials=num_trials)\n",
    "        qpuend = time.time()\n",
    "        print('runtime: ' + str(qpuend - qpustart))\n",
    "        result = np.vstack(result[q] for q in qbit_labels).T\n",
    "\n",
    "        #Figure out where the results are stored\n",
    "        sumk = []\n",
    "        for result_idx in qbit_labels[1:-1]:\n",
    "            if result_idx in register_b:\n",
    "                sumk.insert(0,qbit_labels.index(result_idx))\n",
    "        #make sure you append the carry bit silly!!\n",
    "        sumk.insert(0,len(qbit_labels)-1)\n",
    "\n",
    "        # get the answer   \n",
    "        answer = []\n",
    "        for trials_idx in range(num_trials):\n",
    "            temp =[]\n",
    "            for ans_idx in sumk:\n",
    "                temp.append(result[trials_idx][ans_idx])\n",
    "            answer.append(temp)\n",
    "            \n",
    "        # find hamming weight between desired_answer (correct) and QPU / QVM result\n",
    "        count = 0\n",
    "        for i in range(len(answer)):\n",
    "            wt[binstr_idx,i]= (n)*hamming(desired_answer, answer[i])\n",
    "            if desired_answer == answer[i]:\n",
    "                count +=1\n",
    "        # Sloppy accounting for the case where the number of\n",
    "        # sucesses equals zero\n",
    "        if count == 0:\n",
    "            count +=1\n",
    "        print('Pr(suc) = '+ str(count/num_trials))\n",
    "    return wt"
   ]
  },
  {
   "cell_type": "markdown",
   "metadata": {},
   "source": [
    "# Addition in the Z (Computational) basis results"
   ]
  },
  {
   "cell_type": "code",
   "execution_count": 8,
   "metadata": {},
   "outputs": [
    {
     "name": "stdout",
     "output_type": "stream",
     "text": [
      "runtime: 1.3064579963684082\n",
      "Pr(suc) = 0.25\n",
      "runtime: 0.998553991317749\n",
      "Pr(suc) = 0.25\n",
      "runtime: 0.8788619041442871\n",
      "Pr(suc) = 0.2\n",
      "runtime: 0.725492000579834\n",
      "Pr(suc) = 0.2\n"
     ]
    },
    {
     "data": {
      "image/png": "[encoded data removed]",
      "text/plain": [
       "<matplotlib.figure.Figure at 0x10a9bbc50>"
      ]
     },
     "metadata": {},
     "output_type": "display_data"
    },
    {
     "name": "stdout",
     "output_type": "stream",
     "text": [
      "runtime: 1.8589229583740234\n",
      "Pr(suc) = 0.2\n",
      "runtime: 1.991332769393921\n",
      "Pr(suc) = 0.125\n",
      "runtime: 1.99714994430542\n",
      "Pr(suc) = 0.2\n",
      "runtime: 1.8624670505523682\n",
      "Pr(suc) = 0.05\n",
      "runtime: 1.8658502101898193\n",
      "Pr(suc) = 0.075\n",
      "runtime: 1.815424919128418\n",
      "Pr(suc) = 0.125\n",
      "runtime: 1.8163819313049316\n",
      "Pr(suc) = 0.1\n",
      "runtime: 1.886094093322754\n",
      "Pr(suc) = 0.175\n",
      "runtime: 1.7729802131652832\n",
      "Pr(suc) = 0.125\n",
      "runtime: 1.8846769332885742\n",
      "Pr(suc) = 0.075\n",
      "runtime: 1.8310699462890625\n",
      "Pr(suc) = 0.25\n",
      "runtime: 1.7677240371704102\n",
      "Pr(suc) = 0.15\n",
      "runtime: 1.8370187282562256\n",
      "Pr(suc) = 0.15\n",
      "runtime: 1.852219820022583\n",
      "Pr(suc) = 0.1\n",
      "runtime: 1.8766119480133057\n",
      "Pr(suc) = 0.1\n",
      "runtime: 1.805290937423706\n",
      "Pr(suc) = 0.2\n"
     ]
    },
    {
     "data": {
      "image/png": "[encoded data removed]",
      "text/plain": [
       "<matplotlib.figure.Figure at 0x11be1b198>"
      ]
     },
     "metadata": {},
     "output_type": "display_data"
    }
   ],
   "source": [
    "# If equal to 10,000  = 1% error\n",
    "num_trials = 40 #000\n",
    "\n",
    "avg_n = []\n",
    "med_n = []\n",
    "min_n = []\n",
    "max_n = []\n",
    "rand_n = []\n",
    "\n",
    "for ndx in range(1,3):\n",
    "    # length of binary string\n",
    "    n=ndx\n",
    "    \n",
    "    bin_str = []\n",
    "    bin_str = construct_all_possible_input_numbers(n)\n",
    "    \n",
    "    # find hamming weight distribution of errors relative to correct\n",
    "    # answer averaged over all possible input strings\n",
    "    wt = np.zeros((2**(2*n),num_trials))\n",
    "    wt = average_adder_result_over_input_strings(bin_str,num_of_qubits)\n",
    "    histy = construct_bit_flip_error_histogram(wt,n)\n",
    "    hamming_wt = np.array([comb(n+1,x) for x in list(range(0,n+2))])\n",
    "    hamming_dist = hamming_wt/sum(hamming_wt)\n",
    "\n",
    "    # calculate statistics\n",
    "    exp_average_hamming = np.average(histy,0)/num_trials\n",
    "    avg_n.append(np.average(histy[0],0)/num_trials)\n",
    "    med_n.append(np.median(histy[0],0)/num_trials)\n",
    "    min_n.append(np.min(histy[0],0)/num_trials)\n",
    "    max_n.append(np.max(histy[0],0)/num_trials)\n",
    "    rand_n.append(hamming_dist[0])\n",
    "\n",
    "    # some plotting\n",
    "    weight_vec = list(np.arange(0,n+2))\n",
    "    plt.bar(weight_vec,exp_average_hamming,width=0.61,align='center')\n",
    "    plt.bar(weight_vec,hamming_dist,width=0.31,align='center')\n",
    "    plt.xticks(weight_vec, list(range(0,n+2)))\n",
    "    plt.xlabel('Hamming Weight')\n",
    "    plt.ylabel('Pr(Correct string)' )\n",
    "    plt.legend(['data','random'])\n",
    "    plt.title('Avg. Hamming wt(correct answer, QPU result)' '  n = ' + str(n) + '+' +str(1))\n",
    "    name = 'hamm_n_equal_' + str(n)\n",
    "    plt.savefig(name+'.pdf', bbox_inches='tight')\n",
    "    plt.show()"
   ]
  },
  {
   "cell_type": "markdown",
   "metadata": {},
   "source": [
    "# Addition in the X basis results"
   ]
  },
  {
   "cell_type": "code",
   "execution_count": 11,
   "metadata": {},
   "outputs": [
    {
     "name": "stdout",
     "output_type": "stream",
     "text": [
      "runtime: 0.8560998439788818\n",
      "Pr(suc) = 0.225\n",
      "runtime: 0.837130069732666\n",
      "Pr(suc) = 0.275\n",
      "runtime: 0.7872509956359863\n",
      "Pr(suc) = 0.25\n",
      "runtime: 0.7553541660308838\n",
      "Pr(suc) = 0.225\n"
     ]
    },
    {
     "data": {
      "image/png": "[encoded data removed]",
      "text/plain": [
       "<matplotlib.figure.Figure at 0x1205b00f0>"
      ]
     },
     "metadata": {},
     "output_type": "display_data"
    },
    {
     "name": "stdout",
     "output_type": "stream",
     "text": [
      "runtime: 1.9475767612457275\n",
      "Pr(suc) = 0.1\n",
      "runtime: 2.0232138633728027\n",
      "Pr(suc) = 0.05\n",
      "runtime: 2.120298385620117\n",
      "Pr(suc) = 0.05\n",
      "runtime: 1.879486083984375\n",
      "Pr(suc) = 0.075\n",
      "runtime: 1.9667320251464844\n",
      "Pr(suc) = 0.125\n",
      "runtime: 1.945770025253296\n",
      "Pr(suc) = 0.05\n",
      "runtime: 1.8539447784423828\n",
      "Pr(suc) = 0.025\n",
      "runtime: 1.9483740329742432\n",
      "Pr(suc) = 0.1\n",
      "runtime: 1.9713902473449707\n",
      "Pr(suc) = 0.1\n",
      "runtime: 1.8854248523712158\n",
      "Pr(suc) = 0.125\n",
      "runtime: 1.8954660892486572\n",
      "Pr(suc) = 0.125\n",
      "runtime: 1.878230094909668\n",
      "Pr(suc) = 0.125\n",
      "runtime: 1.889120101928711\n",
      "Pr(suc) = 0.1\n",
      "runtime: 1.886733055114746\n",
      "Pr(suc) = 0.075\n",
      "runtime: 1.894124984741211\n",
      "Pr(suc) = 0.175\n",
      "runtime: 1.8899500370025635\n",
      "Pr(suc) = 0.075\n"
     ]
    },
    {
     "data": {
      "image/png": "[encoded data removed]",
      "text/plain": [
       "<matplotlib.figure.Figure at 0x11f8c2b38>"
      ]
     },
     "metadata": {},
     "output_type": "display_data"
    }
   ],
   "source": [
    "# If equal to 10,000  = 1% error\n",
    "num_trials = 40 #000\n",
    "\n",
    "avg_n = []\n",
    "med_n = []\n",
    "min_n = []\n",
    "max_n = []\n",
    "rand_n = []\n",
    "\n",
    "for ndx in range(1,3):\n",
    "    # length of binary string\n",
    "    n=ndx\n",
    "    \n",
    "    bin_str = []\n",
    "    bin_str = construct_all_possible_input_numbers(n)\n",
    "    \n",
    "    # find hamming weight distribution of errors relative to correct\n",
    "    # answer averaged over all possible input strings\n",
    "    wt = np.zeros((2**(2*n),num_trials))\n",
    "    wt = average_adder_result_over_input_strings(bin_str, num_of_qubits, CNOT_X_basis, CCNOT_X_basis)\n",
    "    histy = construct_bit_flip_error_histogram(wt,n)\n",
    "    hamming_wt = np.array([comb(n+1,x) for x in list(range(0,n+2))])\n",
    "    hamming_dist = hamming_wt/sum(hamming_wt)\n",
    "\n",
    "    # calculate statistics\n",
    "    exp_average_hamming = np.average(histy,0)/num_trials\n",
    "    avg_n.append(np.average(histy[0],0)/num_trials)\n",
    "    med_n.append(np.median(histy[0],0)/num_trials)\n",
    "    min_n.append(np.min(histy[0],0)/num_trials)\n",
    "    max_n.append(np.max(histy[0],0)/num_trials)\n",
    "    rand_n.append(hamming_dist[0])\n",
    "\n",
    "    # some plotting\n",
    "    weight_vec = list(np.arange(0,n+2))\n",
    "    plt.bar(weight_vec,exp_average_hamming,width=0.61,align='center')\n",
    "    plt.bar(weight_vec,hamming_dist,width=0.31,align='center')\n",
    "    plt.xticks(weight_vec, list(range(0,n+2)))\n",
    "    plt.xlabel('Hamming Weight')\n",
    "    plt.ylabel('Pr(Correct string)' )\n",
    "    plt.legend(['data','random'])\n",
    "    plt.title('Avg. Hamming wt(correct answer, QPU result)' '  n = ' + str(n) + '+' +str(1))\n",
    "    name = 'hamm_n_equal_' + str(n)\n",
    "    plt.savefig(name+'.pdf', bbox_inches='tight')\n",
    "    plt.show()"
   ]
  },
  {
   "cell_type": "code",
   "execution_count": null,
   "metadata": {},
   "outputs": [],
   "source": []
  }
 ],
 "metadata": {
  "celltoolbar": "Raw Cell Format",
  "kernelspec": {
   "display_name": "Python 3",
   "language": "python",
   "name": "python3"
  },
  "language_info": {
   "codemirror_mode": {
    "name": "ipython",
    "version": 3
   },
   "file_extension": ".py",
   "mimetype": "text/x-python",
   "name": "python",
   "nbconvert_exporter": "python",
   "pygments_lexer": "ipython3",
   "version": "3.6.3"
  }
 },
 "nbformat": 4,
 "nbformat_minor": 2
}
